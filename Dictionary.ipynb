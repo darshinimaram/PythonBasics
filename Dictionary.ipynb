{
 "cells": [
  {
   "cell_type": "code",
   "execution_count": 1,
   "metadata": {},
   "outputs": [
    {
     "data": {
      "text/plain": [
       "6"
      ]
     },
     "execution_count": 1,
     "metadata": {},
     "output_type": "execute_result"
    }
   ],
   "source": [
    "supply={'apple':4,'mango':6,'orange':8}\n",
    "supply['mango']"
   ]
  },
  {
   "cell_type": "code",
   "execution_count": 5,
   "metadata": {},
   "outputs": [
    {
     "name": "stdout",
     "output_type": "stream",
     "text": [
      "{'orange': 1.2}\n"
     ]
    }
   ],
   "source": [
    "#other way to create dictionaries\n",
    "basket=dict(orange=1.2)\n",
    "print(basket)"
   ]
  },
  {
   "cell_type": "code",
   "execution_count": 6,
   "metadata": {},
   "outputs": [
    {
     "name": "stdout",
     "output_type": "stream",
     "text": [
      "{'orange': 1.2, 'lemon': 0.9}\n"
     ]
    }
   ],
   "source": [
    "basket['lemon']=0.9\n",
    "print(basket)"
   ]
  },
  {
   "cell_type": "code",
   "execution_count": 13,
   "metadata": {},
   "outputs": [
    {
     "name": "stdout",
     "output_type": "stream",
     "text": [
      "{'orange': 1.2, 'lemon': 0.9}\n"
     ]
    }
   ],
   "source": [
    "#other ways to create dictionary\n",
    "products=['orange','lemon']\n",
    "price=[1.2,0.9]\n",
    "cart=dict(zip(products,price))\n",
    "print(cart)"
   ]
  },
  {
   "cell_type": "code",
   "execution_count": 7,
   "metadata": {},
   "outputs": [
    {
     "data": {
      "text/plain": [
       "2"
      ]
     },
     "execution_count": 7,
     "metadata": {},
     "output_type": "execute_result"
    }
   ],
   "source": [
    "#nested dictionary\n",
    "inventory={'orange':{'price':1.2,'stock':10},'lemon':{'price':0.9,'stock':20}}\n",
    "len(inventory)"
   ]
  },
  {
   "cell_type": "code",
   "execution_count": 8,
   "metadata": {},
   "outputs": [
    {
     "data": {
      "text/plain": [
       "1.2"
      ]
     },
     "execution_count": 8,
     "metadata": {},
     "output_type": "execute_result"
    }
   ],
   "source": [
    "inventory['orange']['price']"
   ]
  },
  {
   "cell_type": "code",
   "execution_count": 18,
   "metadata": {},
   "outputs": [
    {
     "name": "stdout",
     "output_type": "stream",
     "text": [
      "2.1\n",
      "dict_keys(['orange', 'lemon'])\n"
     ]
    }
   ],
   "source": [
    "#total quantity\n",
    "print(sum(basket.values()))\n",
    "print(basket.keys())"
   ]
  },
  {
   "cell_type": "code",
   "execution_count": 20,
   "metadata": {},
   "outputs": [
    {
     "ename": "NameError",
     "evalue": "name 'sort' is not defined",
     "output_type": "error",
     "traceback": [
      "\u001b[1;31m---------------------------------------------------------------------------\u001b[0m",
      "\u001b[1;31mNameError\u001b[0m                                 Traceback (most recent call last)",
      "\u001b[1;32m<ipython-input-20-d9a430c14d16>\u001b[0m in \u001b[0;36m<module>\u001b[1;34m\u001b[0m\n\u001b[1;32m----> 1\u001b[1;33m \u001b[0msort\u001b[0m\u001b[1;33m(\u001b[0m\u001b[0mbasket\u001b[0m\u001b[1;33m.\u001b[0m\u001b[0mkeys\u001b[0m\u001b[1;33m(\u001b[0m\u001b[1;33m)\u001b[0m\u001b[1;33m)\u001b[0m\u001b[1;33m\u001b[0m\u001b[1;33m\u001b[0m\u001b[0m\n\u001b[0m\u001b[0;32m      2\u001b[0m \u001b[0mprint\u001b[0m\u001b[1;33m(\u001b[0m\u001b[0mbasket\u001b[0m\u001b[1;33m)\u001b[0m\u001b[1;33m\u001b[0m\u001b[1;33m\u001b[0m\u001b[0m\n",
      "\u001b[1;31mNameError\u001b[0m: name 'sort' is not defined"
     ]
    }
   ],
   "source": [
    "sort(basket.keys())\n",
    "print(basket)"
   ]
  },
  {
   "cell_type": "code",
   "execution_count": 21,
   "metadata": {},
   "outputs": [
    {
     "data": {
      "text/plain": [
       "dict_items([('orange', 1.2), ('lemon', 0.9)])"
      ]
     },
     "execution_count": 21,
     "metadata": {},
     "output_type": "execute_result"
    }
   ],
   "source": [
    "basket.items()"
   ]
  },
  {
   "cell_type": "code",
   "execution_count": 25,
   "metadata": {},
   "outputs": [
    {
     "name": "stdout",
     "output_type": "stream",
     "text": [
      "{'apple': 30, 'kiwi': 20, 'orange': 10, 'mango': 5}\n"
     ]
    }
   ],
   "source": [
    "#Altering dictionary\n",
    "inventory={'apple':30,'kiwi':20,'orange':10}\n",
    "inventory.update({'mango':5})\n",
    "print(inventory)"
   ]
  },
  {
   "cell_type": "code",
   "execution_count": 26,
   "metadata": {},
   "outputs": [
    {
     "name": "stdout",
     "output_type": "stream",
     "text": [
      "{'apple': 30, 'kiwi': 20, 'orange': 10, 'mango': 40}\n"
     ]
    }
   ],
   "source": [
    "#Altering value in dictionary\n",
    "inventory.update({'mango':40})\n",
    "print(inventory)"
   ]
  },
  {
   "cell_type": "code",
   "execution_count": 28,
   "metadata": {},
   "outputs": [
    {
     "name": "stdout",
     "output_type": "stream",
     "text": [
      "{'apple': 30, 'kiwi': 20, 'orange': 10, 'mango': 40, 'pear': 25, 'pome': 25}\n"
     ]
    }
   ],
   "source": [
    "#Add multiple elements\n",
    "inventory.update({'pear':25,'pome':25})\n",
    "print(inventory)"
   ]
  },
  {
   "cell_type": "code",
   "execution_count": 29,
   "metadata": {},
   "outputs": [
    {
     "name": "stdout",
     "output_type": "stream",
     "text": [
      "{'apple': 30, 'kiwi': 20, 'mango': 40, 'pear': 25, 'pome': 25}\n"
     ]
    }
   ],
   "source": [
    "#Remove Element\n",
    "inventory.pop('orange')\n",
    "print(inventory)"
   ]
  },
  {
   "cell_type": "code",
   "execution_count": 30,
   "metadata": {},
   "outputs": [
    {
     "data": {
      "text/plain": [
       "'This product is not available'"
      ]
     },
     "execution_count": 30,
     "metadata": {},
     "output_type": "execute_result"
    }
   ],
   "source": [
    "# remove element if not there will display error\n",
    "inventory.pop('orange','This product is not available')"
   ]
  },
  {
   "cell_type": "code",
   "execution_count": 31,
   "metadata": {},
   "outputs": [
    {
     "name": "stdout",
     "output_type": "stream",
     "text": [
      "{'apple': 30, 'mango': 40, 'pear': 25, 'pome': 25}\n"
     ]
    }
   ],
   "source": [
    "#other ways to delete\n",
    "del inventory['kiwi']\n",
    "print(inventory)"
   ]
  },
  {
   "cell_type": "code",
   "execution_count": 32,
   "metadata": {},
   "outputs": [
    {
     "data": {
      "text/plain": [
       "('pome', 25)"
      ]
     },
     "execution_count": 32,
     "metadata": {},
     "output_type": "execute_result"
    }
   ],
   "source": [
    "#Remove last item\n",
    "inventory.popitem()\n"
   ]
  },
  {
   "cell_type": "code",
   "execution_count": 33,
   "metadata": {},
   "outputs": [
    {
     "name": "stdout",
     "output_type": "stream",
     "text": [
      "{'apple': 30, 'mango': 40, 'pear': 25}\n"
     ]
    }
   ],
   "source": [
    "print(inventory)"
   ]
  },
  {
   "cell_type": "code",
   "execution_count": null,
   "metadata": {},
   "outputs": [],
   "source": [
    "#remove all elements\n",
    "inventory.clear()"
   ]
  },
  {
   "cell_type": "code",
   "execution_count": 35,
   "metadata": {},
   "outputs": [
    {
     "name": "stdout",
     "output_type": "stream",
     "text": [
      "{'apple': 30, 'mango': 40, 'pear': 25, 'lemon': 5}\n",
      "{'apple': 30, 'mango': 40, 'pear': 25, 'lemon': 5}\n"
     ]
    }
   ],
   "source": [
    "#aliasing\n",
    "inventory_copy=inventory\n",
    "inventory_copy.update({'lemon':5})\n",
    "print(inventory_copy)\n",
    "print(inventory)"
   ]
  },
  {
   "cell_type": "code",
   "execution_count": 38,
   "metadata": {},
   "outputs": [
    {
     "name": "stdout",
     "output_type": "stream",
     "text": [
      "{'apple': 30, 'mango': 40, 'pear': 25, 'lemon': 5, 'orange': 10}\n",
      "{'apple': 30, 'mango': 40, 'pear': 25, 'lemon': 5, 'orange': 10, 'Guava': 10}\n"
     ]
    }
   ],
   "source": [
    "#copy\n",
    "supply=inventory.copy();\n",
    "supply.update({'Guava':10})\n",
    "print(inventory_copy)\n",
    "print(supply)"
   ]
  }
 ],
 "metadata": {
  "kernelspec": {
   "display_name": "Python 3",
   "language": "python",
   "name": "python3"
  },
  "language_info": {
   "codemirror_mode": {
    "name": "ipython",
    "version": 3
   },
   "file_extension": ".py",
   "mimetype": "text/x-python",
   "name": "python",
   "nbconvert_exporter": "python",
   "pygments_lexer": "ipython3",
   "version": "3.8.5"
  }
 },
 "nbformat": 4,
 "nbformat_minor": 4
}
