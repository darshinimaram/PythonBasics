{
 "cells": [
  {
   "cell_type": "code",
   "execution_count": null,
   "metadata": {},
   "outputs": [],
   "source": [
    "#Portable way of using perating system functionality\n",
    "#platform independant\n",
    "#Write portable codes\n",
    "#Functions provided\n",
    "###Files and Directories - creating, deleting, renaming and listing\n",
    "###Check if they exist and permisson \n",
    "#Work with environment varaibles"
   ]
  },
  {
   "cell_type": "code",
   "execution_count": 1,
   "metadata": {},
   "outputs": [
    {
     "name": "stdout",
     "output_type": "stream",
     "text": [
      "os-name\n",
      "nt\n"
     ]
    }
   ],
   "source": [
    "from pprint import pprint\n",
    "import json\n",
    "import os\n",
    "\n",
    "print(\"os-name\")\n",
    "print(os.name)"
   ]
  },
  {
   "cell_type": "code",
   "execution_count": 7,
   "metadata": {},
   "outputs": [
    {
     "name": "stdout",
     "output_type": "stream",
     "text": [
      "os-listdir\n",
      "['.ipynb_checkpoints', 'Class and Objects.ipynb', 'Dictionary.ipynb', 'if else and for.ipynb', 'List.ipynb', 'Logical Operations.ipynb', 'os.ipynb', 'psutil.ipynb', 'Tuples and Sets.ipynb', 'Untitled.ipynb']\n"
     ]
    }
   ],
   "source": [
    "#list Dir\n",
    "print(\"os-listdir\")\n",
    "print(os.listdir('c:\\\\Python\\\\Python Basics'))"
   ]
  },
  {
   "cell_type": "code",
   "execution_count": 8,
   "metadata": {},
   "outputs": [
    {
     "name": "stdout",
     "output_type": "stream",
     "text": [
      "os-getcw\n",
      "C:\\Python\\Python Basics\n"
     ]
    }
   ],
   "source": [
    "#get current working directory\n",
    "print(\"os-getcw\")\n",
    "print(os.getcwd())"
   ]
  },
  {
   "cell_type": "code",
   "execution_count": 10,
   "metadata": {},
   "outputs": [
    {
     "name": "stdout",
     "output_type": "stream",
     "text": [
      "os-getenviron\n",
      "{\n",
      "  \"ALLUSERSPROFILE\": \"C:\\\\ProgramData\",\n",
      "  \"APPDATA\": \"C:\\\\Users\\\\darsh\\\\AppData\\\\Roaming\",\n",
      "  \"COMMONPROGRAMFILES\": \"C:\\\\Program Files\\\\Common Files\",\n",
      "  \"COMMONPROGRAMFILES(X86)\": \"C:\\\\Program Files (x86)\\\\Common Files\",\n",
      "  \"COMMONPROGRAMW6432\": \"C:\\\\Program Files\\\\Common Files\",\n",
      "  \"COMPUTERNAME\": \"LAPTOP-MK8UE521\",\n",
      "  \"COMSPEC\": \"C:\\\\WINDOWS\\\\system32\\\\cmd.exe\",\n",
      "  \"CONDA_DEFAULT_ENV\": \"base\",\n",
      "  \"CONDA_EXE\": \"C:\\\\Users\\\\darsh\\\\anaconda3\\\\Scripts\\\\conda.exe\",\n",
      "  \"CONDA_PREFIX\": \"C:\\\\Users\\\\darsh\\\\anaconda3\",\n",
      "  \"CONDA_PROMPT_MODIFIER\": \"(base) \",\n",
      "  \"CONDA_PYTHON_EXE\": \"C:\\\\Users\\\\darsh\\\\anaconda3\\\\python.exe\",\n",
      "  \"CONDA_SHLVL\": \"1\",\n",
      "  \"DRIVERDATA\": \"C:\\\\Windows\\\\System32\\\\Drivers\\\\DriverData\",\n",
      "  \"EFC_30140\": \"1\",\n",
      "  \"FPS_BROWSER_APP_PROFILE_STRING\": \"Internet Explorer\",\n",
      "  \"FPS_BROWSER_USER_PROFILE_STRING\": \"Default\",\n",
      "  \"HOMEDRIVE\": \"C:\",\n",
      "  \"HOMEPATH\": \"\\\\Users\\\\darsh\",\n",
      "  \"JAVA_HOME\": \"C:\\\\Program Files\\\\Java\\\\jdk-15.0.1\",\n",
      "  \"JRE_HOME\": \"C:\\\\Program Files\\\\Java\\\\jre1.8.0_271\",\n",
      "  \"LOCALAPPDATA\": \"C:\\\\Users\\\\darsh\\\\AppData\\\\Local\",\n",
      "  \"LOGONSERVER\": \"\\\\\\\\LAPTOP-MK8UE521\",\n",
      "  \"M2_HOME\": \"C:\\\\Users\\\\darsh\\\\Downloads\\\\apache-maven-3.6.3-bin\\\\apache-maven-3.6.3\",\n",
      "  \"MAVEN_OPTS\": \"-Xmx1048m -Xms256m -XX:MaxPermSize=312M\",\n",
      "  \"NUMBER_OF_PROCESSORS\": \"8\",\n",
      "  \"ONEDRIVE\": \"C:\\\\Users\\\\darsh\\\\OneDrive - Simpson & Co Ltd\",\n",
      "  \"ONEDRIVECOMMERCIAL\": \"C:\\\\Users\\\\darsh\\\\OneDrive - Simpson & Co Ltd\",\n",
      "  \"ONEDRIVECONSUMER\": \"C:\\\\Users\\\\darsh\\\\OneDrive\",\n",
      "  \"OS\": \"Windows_NT\",\n",
      "  \"PATH\": \"C:\\\\Users\\\\darsh\\\\anaconda3;C:\\\\Users\\\\darsh\\\\anaconda3\\\\Library\\\\mingw-w64\\\\bin;C:\\\\Users\\\\darsh\\\\anaconda3\\\\Library\\\\usr\\\\bin;C:\\\\Users\\\\darsh\\\\anaconda3\\\\Library\\\\bin;C:\\\\Users\\\\darsh\\\\anaconda3\\\\Scripts;C:\\\\Users\\\\darsh\\\\anaconda3\\\\bin;C:\\\\Users\\\\darsh\\\\anaconda3\\\\condabin;C:\\\\Program Files\\\\Amazon Corretto\\\\jdk11.0.15_9\\\\bin;C:\\\\Program Files\\\\Common Files\\\\Oracle\\\\Java\\\\javapath;C:\\\\Windows\\\\system32;C:\\\\Windows;C:\\\\Windows\\\\System32\\\\Wbem;C:\\\\Windows\\\\System32\\\\WindowsPowerShell\\\\v1.0;C:\\\\Windows\\\\System32\\\\OpenSSH;C:\\\\Program Files (x86)\\\\NVIDIA Corporation\\\\PhysX\\\\Common;C:\\\\Program Files\\\\Java\\\\jdk-15.0.1;C:\\\\Program Files\\\\nodejs;C:\\\\Users\\\\darsh\\\\Downloads\\\\apache-maven-3.6.3-bin\\\\apache-maven-3.6.3\\\\bin;C:\\\\Users\\\\darsh\\\\AppData\\\\Local\\\\Microsoft\\\\WindowsApps;C:\\\\Users\\\\darsh\\\\AppData\\\\Roaming\\\\npm;C:\\\\Users\\\\darsh\\\\AppData\\\\Roaming\\\\npm\\\\node_modules\\\\@angular\\\\cli\\\\bin;C:\\\\Users\\\\darsh\\\\AppData\\\\Local\\\\Programs\\\\Microsoft VS Code\\\\bin;C:\\\\adb;C:\\\\WINDOWS\\\\system32;C:\\\\WINDOWS;C:\\\\WINDOWS\\\\System32\\\\Wbem;C:\\\\WINDOWS\\\\System32\\\\WindowsPowerShell\\\\v1.0;C:\\\\WINDOWS\\\\System32\\\\OpenSSH;C:\\\\Program Files\\\\Kubernetes\\\\Minikube;.;C:\\\\WINDOWS\\\\system32;C:\\\\WINDOWS;C:\\\\WINDOWS\\\\System32\\\\Wbem;C:\\\\WINDOWS\\\\System32\\\\WindowsPowerShell\\\\v1.0;C:\\\\WINDOWS\\\\System32\\\\OpenSSH;C:\\\\Users\\\\darsh\\\\AppData\\\\Local\\\\Programs\\\\Python\\\\Python312\\\\Scripts;C:\\\\Users\\\\darsh\\\\AppData\\\\Local\\\\Programs\\\\Python\\\\Python312;C:\\\\Users\\\\darsh\\\\AppData\\\\Local\\\\Programs\\\\Python\\\\Launcher;C:\\\\Users\\\\darsh\\\\AppData\\\\Local\\\\Microsoft\\\\WindowsApps;C:\\\\Users\\\\darsh\\\\AppData\\\\Roaming\\\\npm;C:\\\\Users\\\\darsh\\\\AppData\\\\Roaming\\\\npm\\\\node_modules\\\\@angular\\\\cli\\\\bin;.;C:\\\\Users\\\\darsh\\\\AppData\\\\Local\\\\Programs\\\\Microsoft VS Code\\\\bin;C:\\\\Program Files\\\\JetBrains\\\\PyCharm Community Edition 2024.1.1\\\\bin;.\",\n",
      "  \"PATHEXT\": \".COM;.EXE;.BAT;.CMD;.VBS;.VBE;.JS;.JSE;.WSF;.WSH;.MSC\",\n",
      "  \"PROCESSOR_ARCHITECTURE\": \"AMD64\",\n",
      "  \"PROCESSOR_IDENTIFIER\": \"Intel64 Family 6 Model 142 Stepping 12, GenuineIntel\",\n",
      "  \"PROCESSOR_LEVEL\": \"6\",\n",
      "  \"PROCESSOR_REVISION\": \"8e0c\",\n",
      "  \"PROGRAMDATA\": \"C:\\\\ProgramData\",\n",
      "  \"PROGRAMFILES\": \"C:\\\\Program Files\",\n",
      "  \"PROGRAMFILES(X86)\": \"C:\\\\Program Files (x86)\",\n",
      "  \"PROGRAMW6432\": \"C:\\\\Program Files\",\n",
      "  \"PROMPT\": \"(base) $P$G\",\n",
      "  \"PSMODULEPATH\": \"C:\\\\Program Files\\\\WindowsPowerShell\\\\Modules;C:\\\\WINDOWS\\\\system32\\\\WindowsPowerShell\\\\v1.0\\\\Modules\",\n",
      "  \"PUBLIC\": \"C:\\\\Users\\\\Public\",\n",
      "  \"PYCHARM COMMUNITY EDITION\": \"C:\\\\Program Files\\\\JetBrains\\\\PyCharm Community Edition 2024.1.1\\\\bin;\",\n",
      "  \"SESSIONNAME\": \"Console\",\n",
      "  \"SYSTEMDRIVE\": \"C:\",\n",
      "  \"SYSTEMROOT\": \"C:\\\\WINDOWS\",\n",
      "  \"TEMP\": \"C:\\\\Users\\\\darsh\\\\AppData\\\\Local\\\\Temp\",\n",
      "  \"TMP\": \"C:\\\\Users\\\\darsh\\\\AppData\\\\Local\\\\Temp\",\n",
      "  \"USERDOMAIN\": \"LAPTOP-MK8UE521\",\n",
      "  \"USERDOMAIN_ROAMINGPROFILE\": \"LAPTOP-MK8UE521\",\n",
      "  \"USERNAME\": \"darsh\",\n",
      "  \"USERPROFILE\": \"C:\\\\Users\\\\darsh\",\n",
      "  \"VBOX_MSI_INSTALL_PATH\": \"C:\\\\Program Files\\\\Oracle\\\\VirtualBox\\\\\",\n",
      "  \"WINDIR\": \"C:\\\\WINDOWS\",\n",
      "  \"ZES_ENABLE_SYSMAN\": \"1\",\n",
      "  \"JPY_INTERRUPT_EVENT\": \"2912\",\n",
      "  \"IPY_INTERRUPT_EVENT\": \"2912\",\n",
      "  \"JPY_PARENT_PID\": \"2908\",\n",
      "  \"TERM\": \"xterm-color\",\n",
      "  \"CLICOLOR\": \"1\",\n",
      "  \"PAGER\": \"cat\",\n",
      "  \"GIT_PAGER\": \"cat\",\n",
      "  \"MPLBACKEND\": \"module://ipykernel.pylab.backend_inline\"\n",
      "}\n"
     ]
    }
   ],
   "source": [
    "#get current environment\n",
    "print(\"os-getenviron\")\n",
    "environ=os.environ\n",
    "pretty_env=json.dumps(dict(environ),indent=2)\n",
    "print(pretty_env)"
   ]
  },
  {
   "cell_type": "code",
   "execution_count": 11,
   "metadata": {},
   "outputs": [
    {
     "name": "stdout",
     "output_type": "stream",
     "text": [
      "\\Users\\darsh\n"
     ]
    }
   ],
   "source": [
    "print(os.getenv(\"HOMEPATH\"))"
   ]
  },
  {
   "cell_type": "code",
   "execution_count": 12,
   "metadata": {},
   "outputs": [
    {
     "name": "stdout",
     "output_type": "stream",
     "text": [
      "\\Users\\darsh\n"
     ]
    }
   ],
   "source": [
    "print(os.environ[\"HOMEPATH\"])"
   ]
  },
  {
   "cell_type": "code",
   "execution_count": null,
   "metadata": {},
   "outputs": [],
   "source": []
  }
 ],
 "metadata": {
  "kernelspec": {
   "display_name": "Python 3",
   "language": "python",
   "name": "python3"
  },
  "language_info": {
   "codemirror_mode": {
    "name": "ipython",
    "version": 3
   },
   "file_extension": ".py",
   "mimetype": "text/x-python",
   "name": "python",
   "nbconvert_exporter": "python",
   "pygments_lexer": "ipython3",
   "version": "3.8.5"
  }
 },
 "nbformat": 4,
 "nbformat_minor": 4
}
