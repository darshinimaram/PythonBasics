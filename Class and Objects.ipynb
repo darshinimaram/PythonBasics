{
 "cells": [
  {
   "cell_type": "code",
   "execution_count": 4,
   "metadata": {},
   "outputs": [
    {
     "name": "stdout",
     "output_type": "stream",
     "text": [
      "input an item / type end to finishGreens\n",
      "input an item price20\n",
      "input an item / type end to finishtomato\n",
      "input an item price30\n",
      "input an item / type end to finishpotatoes\n",
      "input an item price40\n",
      "input an item / type end to finishend\n",
      "Here is your Monday groceryList\n",
      "Greens:20.0\n",
      "tomato:30.0\n",
      "potatoes:40.0\n",
      "Total Amount:90.0\n",
      "potatoes is in the list\n",
      "bread not in the list\n"
     ]
    }
   ],
   "source": [
    "class GroceryList:\n",
    "    def __init__(self,name):\n",
    "        self.name=name\n",
    "        self.grocery_dict={}\n",
    "        \n",
    "    def input_groceries(self):\n",
    "        while True:\n",
    "            item_name_input=input(\"input an item / type end to finish\")\n",
    "            if item_name_input==\"end\":\n",
    "                break\n",
    "            item_price_input=input(\"input an item price\")\n",
    "            self.grocery_dict[item_name_input]=float(item_price_input)\n",
    "            \n",
    "    def info(self):\n",
    "        print(f\"Here is your {self.name} groceryList\")\n",
    "        for name,price in self.grocery_dict.items():\n",
    "            print(f\"{name}:{price}\")\n",
    "        print(f\"Total Amount:{self.total_cost()}\")\n",
    "        \n",
    "    def total_cost(self):\n",
    "        total_cost=0\n",
    "        for item_price in self.grocery_dict.values():\n",
    "            total_cost+=item_price\n",
    "        return total_cost\n",
    "    \n",
    "    def find_in_dict(self,*item_names):\n",
    "        for item_name in item_names:\n",
    "            for item in self.grocery_dict.keys():\n",
    "                if item==item_name:\n",
    "                    print(f\"{item_name} is in the list\")\n",
    "                    break\n",
    "            else:\n",
    "                print(f\"{item_name} not in the list\")\n",
    "            \n",
    "    \n",
    "monday_grocery=GroceryList(\"Monday\")\n",
    "monday_grocery.input_groceries()\n",
    "monday_grocery.info()\n",
    "monday_grocery.find_in_dict(\"potatoes\",\"bread\")"
   ]
  },
  {
   "cell_type": "code",
   "execution_count": null,
   "metadata": {},
   "outputs": [],
   "source": []
  }
 ],
 "metadata": {
  "kernelspec": {
   "display_name": "Python 3",
   "language": "python",
   "name": "python3"
  },
  "language_info": {
   "codemirror_mode": {
    "name": "ipython",
    "version": 3
   },
   "file_extension": ".py",
   "mimetype": "text/x-python",
   "name": "python",
   "nbconvert_exporter": "python",
   "pygments_lexer": "ipython3",
   "version": "3.8.5"
  }
 },
 "nbformat": 4,
 "nbformat_minor": 4
}
