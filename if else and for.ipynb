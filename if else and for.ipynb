{
 "cells": [
  {
   "cell_type": "code",
   "execution_count": 5,
   "metadata": {},
   "outputs": [
    {
     "name": "stdout",
     "output_type": "stream",
     "text": [
      "What is your bank account balance?2000\n",
      "you are not in debt\n",
      "You can ask for a loan\n"
     ]
    }
   ],
   "source": [
    "#if\n",
    "balance=float(input(\"What is your bank account balance?\"))\n",
    "if balance>=0:\n",
    "    print(\"you are not in debt\")\n",
    "    if balance <2000:\n",
    "        print(\"You cannot ask for loan\")\n",
    "if balance>=2000:\n",
    "    print(\"You can ask for a loan\")"
   ]
  },
  {
   "cell_type": "code",
   "execution_count": 8,
   "metadata": {},
   "outputs": [
    {
     "name": "stdout",
     "output_type": "stream",
     "text": [
      "Number is not 4\n"
     ]
    }
   ],
   "source": [
    "#if and else\n",
    "number =3\n",
    "if number==4:\n",
    "    print(\"Number is 4\")\n",
    "else:\n",
    "    print(\"Number is not 4\")"
   ]
  },
  {
   "cell_type": "code",
   "execution_count": 9,
   "metadata": {},
   "outputs": [
    {
     "name": "stdout",
     "output_type": "stream",
     "text": [
      "Number is 3\n"
     ]
    }
   ],
   "source": [
    "if number==4:\n",
    "    print(\"Number is 4\")\n",
    "elif number == 3:\n",
    "    print(\"Number is 3\")\n",
    "else:\n",
    "    print(\"Number is not 3 or 4\")"
   ]
  },
  {
   "cell_type": "code",
   "execution_count": 15,
   "metadata": {},
   "outputs": [
    {
     "name": "stdout",
     "output_type": "stream",
     "text": [
      "Grocery list program\n",
      "Input an item type end to finishcarrot\n",
      "Input an item type end to finishmano\n",
      "Input an item type end to finishbanana\n",
      "Input an item type end to finishend\n",
      "Here is your grocery list:\n",
      "['carrot', 'mano', 'banana']\n"
     ]
    }
   ],
   "source": [
    "print(\"Grocery list program\")\n",
    "grocery_list=[]\n",
    "user_input=None\n",
    "while user_input!=\"end\":\n",
    "    user_input=input(\"Input an item type end to finish\")\n",
    "    if user_input!=\"end\":\n",
    "        grocery_list.append(user_input)\n",
    "print(\"Here is your grocery list:\")\n",
    "print(grocery_list)"
   ]
  },
  {
   "cell_type": "code",
   "execution_count": 17,
   "metadata": {},
   "outputs": [
    {
     "name": "stdout",
     "output_type": "stream",
     "text": [
      "0 element is 23\n",
      "1 element is 45\n",
      "2 element is 60\n"
     ]
    }
   ],
   "source": [
    "lst=[23,45,60]\n",
    "i=0\n",
    "while i<len(lst):\n",
    "    print(f\"{i} element is {lst[i]}\")\n",
    "    i=i+1\n",
    "          "
   ]
  },
  {
   "cell_type": "code",
   "execution_count": 18,
   "metadata": {},
   "outputs": [
    {
     "name": "stdout",
     "output_type": "stream",
     "text": [
      "23\n",
      "45\n",
      "65\n"
     ]
    }
   ],
   "source": [
    "#for loop\n",
    "lst=[23,45,65]\n",
    "for num in lst:\n",
    "    print(num)"
   ]
  },
  {
   "cell_type": "code",
   "execution_count": 19,
   "metadata": {},
   "outputs": [
    {
     "name": "stdout",
     "output_type": "stream",
     "text": [
      "0 23\n",
      "1 33\n",
      "2 22\n"
     ]
    }
   ],
   "source": [
    "lst=[23,33,22]\n",
    "for index,value in enumerate(lst):\n",
    "    print(f\"{index} {value}\")"
   ]
  },
  {
   "cell_type": "code",
   "execution_count": 23,
   "metadata": {},
   "outputs": [
    {
     "name": "stdout",
     "output_type": "stream",
     "text": [
      "Luna\n",
      "12345\n",
      "20000\n"
     ]
    }
   ],
   "source": [
    "#iterating value through dictionary\n",
    "bank_account={\n",
    "    \"name\":\"Luna\",\n",
    "    \"number\":\"12345\",\n",
    "    \"balance\":20000\n",
    "    }\n",
    "#print values\n",
    "for values in bank_account.values():\n",
    "    print(values)"
   ]
  },
  {
   "cell_type": "code",
   "execution_count": 24,
   "metadata": {},
   "outputs": [
    {
     "name": "stdout",
     "output_type": "stream",
     "text": [
      "name\n",
      "number\n",
      "balance\n"
     ]
    }
   ],
   "source": [
    "#print keys\n",
    "for keys in bank_account.keys():\n",
    "    print(keys)"
   ]
  },
  {
   "cell_type": "code",
   "execution_count": 26,
   "metadata": {},
   "outputs": [
    {
     "name": "stdout",
     "output_type": "stream",
     "text": [
      "name Luna\n",
      "number 12345\n",
      "balance 20000\n"
     ]
    }
   ],
   "source": [
    "#print keys and values\n",
    "for key,values in bank_account.items():\n",
    "    print(f\"{key} {values}\")"
   ]
  },
  {
   "cell_type": "code",
   "execution_count": 27,
   "metadata": {},
   "outputs": [
    {
     "data": {
      "text/plain": [
       "[0, 1, 2, 3, 4]"
      ]
     },
     "execution_count": 27,
     "metadata": {},
     "output_type": "execute_result"
    }
   ],
   "source": [
    "#range\n",
    "list(range(5))"
   ]
  },
  {
   "cell_type": "code",
   "execution_count": 28,
   "metadata": {},
   "outputs": [
    {
     "name": "stdout",
     "output_type": "stream",
     "text": [
      "0\n",
      "1\n",
      "2\n",
      "3\n",
      "4\n"
     ]
    }
   ],
   "source": [
    "for lc in range(5):\n",
    "    print(lc)"
   ]
  },
  {
   "cell_type": "code",
   "execution_count": 30,
   "metadata": {},
   "outputs": [
    {
     "name": "stdout",
     "output_type": "stream",
     "text": [
      "Bread is not in list\n"
     ]
    }
   ],
   "source": [
    "#for else\n",
    "grocery_list=['apple','rice','urud dhal']\n",
    "for items in grocery_list:\n",
    "    if items==\"bread\":\n",
    "        print(\"Bread is on list\")\n",
    "        break\n",
    "else:\n",
    "    print(\"Bread is not in list\")"
   ]
  },
  {
   "cell_type": "code",
   "execution_count": null,
   "metadata": {},
   "outputs": [],
   "source": []
  }
 ],
 "metadata": {
  "kernelspec": {
   "display_name": "Python 3",
   "language": "python",
   "name": "python3"
  },
  "language_info": {
   "codemirror_mode": {
    "name": "ipython",
    "version": 3
   },
   "file_extension": ".py",
   "mimetype": "text/x-python",
   "name": "python",
   "nbconvert_exporter": "python",
   "pygments_lexer": "ipython3",
   "version": "3.8.5"
  }
 },
 "nbformat": 4,
 "nbformat_minor": 4
}
